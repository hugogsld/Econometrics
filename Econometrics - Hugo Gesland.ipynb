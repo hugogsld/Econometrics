{
  "nbformat": 4,
  "nbformat_minor": 0,
  "metadata": {
    "colab": {
      "provenance": []
    },
    "kernelspec": {
      "name": "ir",
      "display_name": "R"
    },
    "language_info": {
      "name": "R"
    }
  },
  "cells": [
    {
      "cell_type": "code",
      "source": [
        "library(readxl) # Loading the `readxl` library to read Excel files\n",
        "da=read_excel(\"/content/DATASET_HUGO.xlsx\") # Reading the Excel file named \"DATASET_HUGO.xlsx\" and storing the data in the object `da`\n",
        "da=data.frame(da) # Converting the object `da` into a data frame to ensure compatibility with data manipulation functions\n",
        "head(da) # Displaying the first rows of the data frame for a quick overview of the data"
      ],
      "metadata": {
        "colab": {
          "base_uri": "https://localhost:8080/",
          "height": 283
        },
        "id": "im6hguYJsQqf",
        "outputId": "92827594-b8de-4f90-be3f-c6224b4226aa"
      },
      "execution_count": 7,
      "outputs": [
        {
          "output_type": "display_data",
          "data": {
            "text/html": [
              "<table class=\"dataframe\">\n",
              "<caption>A data.frame: 6 × 11</caption>\n",
              "<thead>\n",
              "\t<tr><th></th><th scope=col>DATE</th><th scope=col>SANDP</th><th scope=col>IBM</th><th scope=col>CPI</th><th scope=col>INDPRO</th><th scope=col>M1SUPPLY</th><th scope=col>CCREDIT</th><th scope=col>BMINUSA</th><th scope=col>USTB3M</th><th scope=col>USTB10Y</th><th scope=col>Adobe</th></tr>\n",
              "\t<tr><th></th><th scope=col>&lt;dttm&gt;</th><th scope=col>&lt;dbl&gt;</th><th scope=col>&lt;dbl&gt;</th><th scope=col>&lt;dbl&gt;</th><th scope=col>&lt;dbl&gt;</th><th scope=col>&lt;dbl&gt;</th><th scope=col>&lt;dbl&gt;</th><th scope=col>&lt;dbl&gt;</th><th scope=col>&lt;dbl&gt;</th><th scope=col>&lt;dbl&gt;</th><th scope=col>&lt;dbl&gt;</th></tr>\n",
              "</thead>\n",
              "<tbody>\n",
              "\t<tr><th scope=row>1</th><td>1986-03-01</td><td>238.90</td><td>37.88</td><td>108.8</td><td>56.5414</td><td>624.3</td><td>606.7990</td><td>1.50</td><td>6.76</td><td>7.78</td><td>0.09</td></tr>\n",
              "\t<tr><th scope=row>2</th><td>1986-04-01</td><td>235.52</td><td>39.06</td><td>108.6</td><td>56.5654</td><td>647.0</td><td>614.3669</td><td>1.40</td><td>6.24</td><td>7.30</td><td>0.11</td></tr>\n",
              "\t<tr><th scope=row>3</th><td>1986-05-01</td><td>247.35</td><td>38.09</td><td>108.9</td><td>56.6850</td><td>645.7</td><td>621.9152</td><td>1.20</td><td>6.33</td><td>7.71</td><td>0.13</td></tr>\n",
              "\t<tr><th scope=row>4</th><td>1986-06-01</td><td>250.84</td><td>36.62</td><td>109.5</td><td>56.4959</td><td>662.8</td><td>627.8910</td><td>1.21</td><td>6.40</td><td>7.80</td><td>0.12</td></tr>\n",
              "\t<tr><th scope=row>5</th><td>1986-07-01</td><td>236.12</td><td>33.12</td><td>109.5</td><td>56.8096</td><td>673.4</td><td>633.6083</td><td>1.28</td><td>6.00</td><td>7.30</td><td>0.14</td></tr>\n",
              "\t<tr><th scope=row>6</th><td>1986-08-01</td><td>252.93</td><td>34.69</td><td>109.7</td><td>56.7348</td><td>678.4</td><td>640.5126</td><td>1.46</td><td>5.69</td><td>7.17</td><td>0.16</td></tr>\n",
              "</tbody>\n",
              "</table>\n"
            ],
            "text/markdown": "\nA data.frame: 6 × 11\n\n| <!--/--> | DATE &lt;dttm&gt; | SANDP &lt;dbl&gt; | IBM &lt;dbl&gt; | CPI &lt;dbl&gt; | INDPRO &lt;dbl&gt; | M1SUPPLY &lt;dbl&gt; | CCREDIT &lt;dbl&gt; | BMINUSA &lt;dbl&gt; | USTB3M &lt;dbl&gt; | USTB10Y &lt;dbl&gt; | Adobe &lt;dbl&gt; |\n|---|---|---|---|---|---|---|---|---|---|---|---|\n| 1 | 1986-03-01 | 238.90 | 37.88 | 108.8 | 56.5414 | 624.3 | 606.7990 | 1.50 | 6.76 | 7.78 | 0.09 |\n| 2 | 1986-04-01 | 235.52 | 39.06 | 108.6 | 56.5654 | 647.0 | 614.3669 | 1.40 | 6.24 | 7.30 | 0.11 |\n| 3 | 1986-05-01 | 247.35 | 38.09 | 108.9 | 56.6850 | 645.7 | 621.9152 | 1.20 | 6.33 | 7.71 | 0.13 |\n| 4 | 1986-06-01 | 250.84 | 36.62 | 109.5 | 56.4959 | 662.8 | 627.8910 | 1.21 | 6.40 | 7.80 | 0.12 |\n| 5 | 1986-07-01 | 236.12 | 33.12 | 109.5 | 56.8096 | 673.4 | 633.6083 | 1.28 | 6.00 | 7.30 | 0.14 |\n| 6 | 1986-08-01 | 252.93 | 34.69 | 109.7 | 56.7348 | 678.4 | 640.5126 | 1.46 | 5.69 | 7.17 | 0.16 |\n\n",
            "text/latex": "A data.frame: 6 × 11\n\\begin{tabular}{r|lllllllllll}\n  & DATE & SANDP & IBM & CPI & INDPRO & M1SUPPLY & CCREDIT & BMINUSA & USTB3M & USTB10Y & Adobe\\\\\n  & <dttm> & <dbl> & <dbl> & <dbl> & <dbl> & <dbl> & <dbl> & <dbl> & <dbl> & <dbl> & <dbl>\\\\\n\\hline\n\t1 & 1986-03-01 & 238.90 & 37.88 & 108.8 & 56.5414 & 624.3 & 606.7990 & 1.50 & 6.76 & 7.78 & 0.09\\\\\n\t2 & 1986-04-01 & 235.52 & 39.06 & 108.6 & 56.5654 & 647.0 & 614.3669 & 1.40 & 6.24 & 7.30 & 0.11\\\\\n\t3 & 1986-05-01 & 247.35 & 38.09 & 108.9 & 56.6850 & 645.7 & 621.9152 & 1.20 & 6.33 & 7.71 & 0.13\\\\\n\t4 & 1986-06-01 & 250.84 & 36.62 & 109.5 & 56.4959 & 662.8 & 627.8910 & 1.21 & 6.40 & 7.80 & 0.12\\\\\n\t5 & 1986-07-01 & 236.12 & 33.12 & 109.5 & 56.8096 & 673.4 & 633.6083 & 1.28 & 6.00 & 7.30 & 0.14\\\\\n\t6 & 1986-08-01 & 252.93 & 34.69 & 109.7 & 56.7348 & 678.4 & 640.5126 & 1.46 & 5.69 & 7.17 & 0.16\\\\\n\\end{tabular}\n",
            "text/plain": [
              "  DATE       SANDP  IBM   CPI   INDPRO  M1SUPPLY CCREDIT  BMINUSA USTB3M\n",
              "1 1986-03-01 238.90 37.88 108.8 56.5414 624.3    606.7990 1.50    6.76  \n",
              "2 1986-04-01 235.52 39.06 108.6 56.5654 647.0    614.3669 1.40    6.24  \n",
              "3 1986-05-01 247.35 38.09 108.9 56.6850 645.7    621.9152 1.20    6.33  \n",
              "4 1986-06-01 250.84 36.62 109.5 56.4959 662.8    627.8910 1.21    6.40  \n",
              "5 1986-07-01 236.12 33.12 109.5 56.8096 673.4    633.6083 1.28    6.00  \n",
              "6 1986-08-01 252.93 34.69 109.7 56.7348 678.4    640.5126 1.46    5.69  \n",
              "  USTB10Y Adobe\n",
              "1 7.78    0.09 \n",
              "2 7.30    0.11 \n",
              "3 7.71    0.13 \n",
              "4 7.80    0.12 \n",
              "5 7.30    0.14 \n",
              "6 7.17    0.16 "
            ]
          },
          "metadata": {}
        }
      ]
    },
    {
      "cell_type": "code",
      "source": [
        "dim(da) # Returns the dimensions of the data frame `da`: the number of rows (observations) and the number of columns (variables)"
      ],
      "metadata": {
        "colab": {
          "base_uri": "https://localhost:8080/",
          "height": 34
        },
        "id": "cWtuPjG9sTEU",
        "outputId": "7b089080-d642-4f0f-8d3d-64b7b3901d16"
      },
      "execution_count": 8,
      "outputs": [
        {
          "output_type": "display_data",
          "data": {
            "text/html": [
              "<style>\n",
              ".list-inline {list-style: none; margin:0; padding: 0}\n",
              ".list-inline>li {display: inline-block}\n",
              ".list-inline>li:not(:last-child)::after {content: \"\\00b7\"; padding: 0 .5ex}\n",
              "</style>\n",
              "<ol class=list-inline><li>385</li><li>11</li></ol>\n"
            ],
            "text/markdown": "1. 385\n2. 11\n\n\n",
            "text/latex": "\\begin{enumerate*}\n\\item 385\n\\item 11\n\\end{enumerate*}\n",
            "text/plain": [
              "[1] 385  11"
            ]
          },
          "metadata": {}
        }
      ]
    },
    {
      "cell_type": "code",
      "source": [
        "summary(da) # Generates a statistical summary of the columns in the data frame `da`, including statistics like mean, median, minimum and maximum values, and quartiles for numerical data. For categorical columns, it shows the frequency of each category"
      ],
      "metadata": {
        "colab": {
          "base_uri": "https://localhost:8080/",
          "height": 374
        },
        "id": "tLaEaPMPsXM1",
        "outputId": "d7be35b2-e74e-4d71-f76f-0ba5e1bb6e92"
      },
      "execution_count": 9,
      "outputs": [
        {
          "output_type": "display_data",
          "data": {
            "text/plain": [
              "      DATE                           SANDP             IBM        \n",
              " Min.   :1986-03-01 00:00:00.0   Min.   : 230.3   Min.   : 10.50  \n",
              " 1st Qu.:1994-03-01 00:00:00.0   1st Qu.: 459.3   1st Qu.: 30.00  \n",
              " Median :2002-03-01 00:00:00.0   Median :1104.5   Median : 87.07  \n",
              " Mean   :2002-03-02 01:11:03.8   Mean   :1066.0   Mean   : 87.34  \n",
              " 3rd Qu.:2010-03-01 00:00:00.0   3rd Qu.:1385.6   3rd Qu.:127.98  \n",
              " Max.   :2018-03-01 00:00:00.0   Max.   :2823.8   Max.   :208.65  \n",
              "      CPI            INDPRO          M1SUPPLY         CCREDIT      \n",
              " Min.   :108.6   Min.   : 56.50   Min.   : 624.3   Min.   : 606.8  \n",
              " 1st Qu.:147.2   1st Qu.: 69.48   1st Qu.:1069.3   1st Qu.: 886.2  \n",
              " Median :178.8   Median : 93.00   Median :1191.8   Median :1891.8  \n",
              " Mean   :181.1   Mean   : 86.63   Mean   :1514.7   Mean   :1897.8  \n",
              " 3rd Qu.:218.2   3rd Qu.:100.72   3rd Qu.:1716.0   3rd Qu.:2620.5  \n",
              " Max.   :249.6   Max.   :106.66   Max.   :3684.7   Max.   :3843.4  \n",
              "    BMINUSA           USTB3M         USTB10Y          Adobe       \n",
              " Min.   :0.5500   Min.   :0.010   Min.   :1.500   Min.   :  0.09  \n",
              " 1st Qu.:0.7200   1st Qu.:0.450   1st Qu.:3.330   1st Qu.:  3.66  \n",
              " Median :0.9000   Median :3.440   Median :4.910   Median : 18.62  \n",
              " Mean   :0.9746   Mean   :3.297   Mean   :5.075   Mean   : 28.50  \n",
              " 3rd Qu.:1.1300   3rd Qu.:5.290   3rd Qu.:6.740   3rd Qu.: 34.95  \n",
              " Max.   :3.3800   Max.   :9.140   Max.   :9.520   Max.   :216.08  "
            ]
          },
          "metadata": {}
        }
      ]
    },
    {
      "cell_type": "code",
      "source": [
        "sandp=da[,2] # Extracting the 2nd column from the data frame `da`, assumed to represent S&P data, and storing it in the object `sandp`\n",
        "IBM=da[,3] # Extracting the 3rd column from `da`, assumed to contain data for IBM, and storing it in the object `IBM`\n",
        "cpi=da[,4] # Extracting the 4th column from `da`, assumed to represent the Consumer Price Index (CPI), and storing it in the object `cpi`\n",
        "indpro=da[,5] # Extracting the 5th column from `da`, assumed to contain the industrial production index, and storing it in the object `indpro`\n",
        "m1supply=da[,6] # Extracting the 6th column from `da`, assumed to represent M1 money supply, and storing it in the object `m1supply`\n",
        "ccredit=da[,7] # Extracting the 7th column from `da`, assumed to contain consumer credit data, and storing it in the object `ccredit`\n",
        "bminusa=da[,8] # Extracting the 8th column from `da`, assumed to represent the US balance of trade, and storing it in the object `bminusa`\n",
        "ustb3bm=da[,9] # Extracting the 9th column from `da`, assumed to represent the 3-month US Treasury bill yield, and storing it in the object `ustb3bm`\n",
        "ustb10y=da[,10] # Extracting the 10th column from `da`, assumed to contain the 10-year US Treasury bond yield, and storing it in the object `ustb10y`\n",
        "adobe=da[,11] # Extracting the 11th column from `da`, assumed to contain data on Adobe, and storing it in the object `adobe`"
      ],
      "metadata": {
        "id": "YnlIEb08sYZd"
      },
      "execution_count": 10,
      "outputs": []
    },
    {
      "cell_type": "markdown",
      "source": [
        "This section of the code calculates the logarithmic return series and variations of several key economic variables to understand their percentage changes over time. Below is a detailed breakdown of each variable and its purpose:\n",
        "\n",
        "- rsandp: The percentage change in the logarithmic return of the S&P 500 index, representing overall market performance.\n",
        "\n",
        "- IBM: The percentage change in the logarithmic return of IBM stock, used to analyze the performance of IBM relative to the market.\n",
        "\n",
        "- inflation: The inflation rate is calculated as the logarithmic change in the Consumer Price Index (CPI), providing insights into inflationary pressures in the economy.\n",
        "\n",
        "- dspread: The difference or variation in the spread, which could refer to the difference between bond yields or other financial metrics, depending on the specific redefinition used in the model.\n",
        "\n",
        "- dcredit: The change in credit conditions, typically represented by the variable 'ccredit', reflecting shifts in lending or borrowing activity.\n",
        "\n",
        "- dmoney: The change in the money supply, typically measured by the M1 supply, indicating liquidity and monetary policy influences on the economy.\n",
        "\n",
        "- dinflation: The variation in the inflation rate, tracking changes in the pace of inflation over time.\n",
        "\n",
        "- term: The evolution of the yield curve, represented by the difference between the yields of 10-year bonds and 3-month Treasury bills, which gives insight into expectations for economic growth and interest rates.\n",
        "\n",
        "- adobe: The percentage change in the logarithmic return of Adobe stock, providing an additional market-specific measure for analysis alongside IBM and S&P returns."
      ],
      "metadata": {
        "id": "r96CLHMQslgT"
      }
    },
    {
      "cell_type": "code",
      "source": [
        "rsandp=c(NA,100*diff(log(sandp))) # Calculates the logarithmic return series for S&P 500, converted into percentage changes\n",
        "rIBM=c(NA,100*diff(log(IBM))) # Computes the logarithmic return series for IBM, representing percentage growth rates\n",
        "inflation=c(NA,100*diff(log(cpi))) # Computes the inflation rate as the percentage change in the CPI (Consumer Price Index)\n",
        "dspread=c(NA,100*diff(bminusa)) # Calculates the percentage change in the trade balance spread over time\n",
        "dcredit=c(NA,100*diff(ccredit)) # Computes the percentage change in consumer credit data for each time period\n",
        "dspread=c(NA,100*diff(indpro)) # Computes the percentage change in the industrial production index over time\n",
        "dmoney=c(NA,100*diff(m1supply)) # Calculates the percentage change in the M1 money supply across time periods\n",
        "dinflation=c(NA,100*diff(inflation)) # Computes the percentage change in the inflation rate across consecutive periods\n",
        "rterm=c(NA,100*diff(ustb10y-ustb3bm)) # Computes the percentage change in the term spread (10-year vs 3-month Treasury yields)\n",
        "radobe=c(NA,100*diff(log(adobe))) # Calculates the logarithmic return series for Adobe, expressed as percentage changes"
      ],
      "metadata": {
        "id": "AREbgRy0sitk"
      },
      "execution_count": 12,
      "outputs": []
    },
    {
      "cell_type": "markdown",
      "source": [
        "The following steps involve adjusting and transforming the interest rate data to align with the frequency of the stock returns and then calculating excess returns for both the market (S&P 500) and IBM.\n",
        "\n",
        "- ustb3mmonth: This line divides the annual yield on 3-month Treasury bills (ustb3m) by 12 to convert it into a monthly yield. This adjustment allows for a more accurate comparison between the monthly-frequency returns of stocks and the monthly risk-free rate.\n",
        "\n",
        "- ersandp: The excess return of the S&P 500 is calculated by subtracting the monthly risk-free rate (ustb3mmonth) from the S&P 500 return (rsandp). This helps in understanding the performance of the market above the risk-free rate, offering a measure of the market’s risk-adjusted return.\n",
        "\n",
        "- erIBM: Similarly, the excess return of IBM is computed by subtracting the monthly risk-free return from IBM’s stock return. This allows for the analysis of IBM's performance relative to a risk-free investment, adjusting for the broader market's risk-free rate.\n",
        "\n",
        "This entire process is aimed at providing a detailed analysis of the relationship between various economic indicators and the performance of financial assets.\n",
        "\n",
        "The code calculates the monthly yield for 3-month Treasury bills (`ustb3bmmonth`) by dividing the annual yield (`ustb3bm`) by 12. It then computes the excess return for the S&P 500 (`ersandp`) by subtracting the monthly risk-free rate (`ustb3bmmonth`) from the S&P 500 return (`rsandp`). Similarly, the excess return for IBM (`erIBM`) is calculated by subtracting the same monthly risk-free rate (`ustb3bmmonth`) from IBM’s return (`rIBM`). This allows for an analysis of the stock returns relative to the risk-free rate over the same period.\n"
      ],
      "metadata": {
        "id": "UMxxhuLptKNg"
      }
    },
    {
      "cell_type": "code",
      "source": [
        "ustb3bmmonth=ustb3bm/12 # Calculates the monthly yield for 3-month Treasury bills by dividing the annual yield by 12\n",
        "ersandp=rsandp-ustb3bmmonth # Calculates the excess return of S&P 500 by subtracting the risk-free rate\n",
        "erIBM=rIBM-ustb3bmmonth # Calculates the excess return of IBM by subtracting the risk-free rate"
      ],
      "metadata": {
        "id": "f0wxBvdJUgTk"
      },
      "execution_count": 51,
      "outputs": []
    },
    {
      "cell_type": "markdown",
      "source": [
        "This R code analyzes economic and financial data from the Excel file **\"DATASET_HUGO.xlsx\"**, calculating logarithmic returns, percentage changes, inflation, interest rate spreads, and the **excess returns** of S&P 500 and IBM stocks. The goal is to explore the relationships between these indicators and financial asset performance."
      ],
      "metadata": {
        "id": "QKTOiF3RDGOQ"
      }
    },
    {
      "cell_type": "code",
      "source": [
        "install.packages('lmtest') # Installs the 'lmtest' package, which provides tools for diagnostic checking in linear models"
      ],
      "metadata": {
        "colab": {
          "base_uri": "https://localhost:8080/"
        },
        "id": "sA2H3xiKtcnp",
        "outputId": "729275a7-46e5-49fa-d18d-9c0df4997d57"
      },
      "execution_count": 14,
      "outputs": [
        {
          "output_type": "stream",
          "name": "stderr",
          "text": [
            "Installing package into ‘/usr/local/lib/R/site-library’\n",
            "(as ‘lib’ is unspecified)\n",
            "\n",
            "also installing the dependency ‘zoo’\n",
            "\n",
            "\n"
          ]
        }
      ]
    },
    {
      "cell_type": "code",
      "source": [
        "library(lmtest) # Loads the 'lmtest' package to use functions for linear model diagnostics and hypothesis testing"
      ],
      "metadata": {
        "id": "v9nQvsBUtrDO",
        "colab": {
          "base_uri": "https://localhost:8080/"
        },
        "outputId": "5786cb93-47e8-4c9c-892d-f4b10cea82fe"
      },
      "execution_count": 19,
      "outputs": [
        {
          "output_type": "stream",
          "name": "stderr",
          "text": [
            "Loading required package: zoo\n",
            "\n",
            "\n",
            "Attaching package: ‘zoo’\n",
            "\n",
            "\n",
            "The following objects are masked from ‘package:base’:\n",
            "\n",
            "    as.Date, as.Date.numeric\n",
            "\n",
            "\n"
          ]
        }
      ]
    },
    {
      "cell_type": "markdown",
      "source": [
        "The following code specifies a multiple linear model (with the lm function) to explain IBM's excess return (rIBM) as a function of several explanatory variables.\n",
        "\n",
        "The model seeks to estimate the contributions of each explanatory variable to IBM's excess return (rIBM)."
      ],
      "metadata": {
        "id": "c6moTCJ5t0DB"
      }
    },
    {
      "cell_type": "code",
      "source": [
        "modelapt=lm(erIBM ~ ersandp + dcredit + dinflation + dmoney + dspread + rterm, data=da) # Creates a linear regression model with 'rIBM' as the dependent variable and the other variables as independent variables\n",
        "summary(modelapt) # Displays a summary of the regression model, including coefficients, standard errors, and p-values"
      ],
      "metadata": {
        "colab": {
          "base_uri": "https://localhost:8080/",
          "height": 442
        },
        "id": "mZnY7-BCtvOR",
        "outputId": "cfaf3090-e5d0-40ca-c11c-cb4aadf9dc2b"
      },
      "execution_count": 15,
      "outputs": [
        {
          "output_type": "display_data",
          "data": {
            "text/plain": [
              "\n",
              "Call:\n",
              "lm(formula = erIBM ~ ersandp + dcredit + dinflation + dmoney + \n",
              "    dspread + rterm, data = da)\n",
              "\n",
              "Residuals:\n",
              "     Min       1Q   Median       3Q      Max \n",
              "-30.2899  -3.3548  -0.3086   3.7686  21.9081 \n",
              "\n",
              "Coefficients:\n",
              "              Estimate Std. Error t value Pr(>|t|)    \n",
              "(Intercept) -1.928e-02  3.795e-01  -0.051   0.9595    \n",
              "ersandp      9.610e-01  7.395e-02  12.997   <2e-16 ***\n",
              "dcredit     -4.338e-05  2.166e-04  -0.200   0.8414    \n",
              "dinflation   7.975e-03  9.834e-03   0.811   0.4179    \n",
              "dmoney      -1.126e-04  1.230e-04  -0.916   0.3604    \n",
              "dspread     -9.821e-03  5.864e-03  -1.675   0.0948 .  \n",
              "rterm        2.629e-02  1.371e-02   1.918   0.0559 .  \n",
              "---\n",
              "Signif. codes:  0 ‘***’ 0.001 ‘**’ 0.01 ‘*’ 0.05 ‘.’ 0.1 ‘ ’ 1\n",
              "\n",
              "Residual standard error: 6.268 on 376 degrees of freedom\n",
              "  (2 observations deleted due to missingness)\n",
              "Multiple R-squared:  0.3192,\tAdjusted R-squared:  0.3083 \n",
              "F-statistic: 29.38 on 6 and 376 DF,  p-value: < 2.2e-16\n"
            ]
          },
          "metadata": {}
        }
      ]
    },
    {
      "cell_type": "markdown",
      "source": [
        "The coeftest(modelapt) function is part of the lmtest package and is used to perform hypothesis tests on the coefficients of the regression model modelapt. It provides the following key statistics:\n",
        "\n",
        "- Coefficient Estimates (𝛽): These are the estimated values for each independent variable, indicating their effect on the dependent variable.\n",
        "\n",
        "- Standard Errors: These measure the precision of the coefficient estimates, showing how much the estimates might vary across different samples.\n",
        "\n",
        "- t-Values: These are test statistics used to assess the significance of each coefficient by comparing the estimate to its standard error.\n",
        "\n",
        "- p-Values: These values help determine whether each coefficient is statistically significant, with smaller p-values (typically < 0.05) suggesting that the null hypothesis (coefficient = 0) can be rejected."
      ],
      "metadata": {
        "id": "_tJiRb_HvDGm"
      }
    },
    {
      "cell_type": "code",
      "source": [
        "coeftest(modelapt) # Displays the results of significance tests for the coefficients of the 'modelapt', including t-values and p-values"
      ],
      "metadata": {
        "colab": {
          "base_uri": "https://localhost:8080/",
          "height": 238
        },
        "id": "Z7S-GFiluCnT",
        "outputId": "7248e4fd-6c47-4746-95cb-0c7b83b50a63"
      },
      "execution_count": 20,
      "outputs": [
        {
          "output_type": "display_data",
          "data": {
            "text/plain": [
              "\n",
              "t test of coefficients:\n",
              "\n",
              "               Estimate  Std. Error t value Pr(>|t|)    \n",
              "(Intercept) -1.9278e-02  3.7948e-01 -0.0508  0.95951    \n",
              "ersandp      9.6103e-01  7.3945e-02 12.9965  < 2e-16 ***\n",
              "dcredit     -4.3381e-05  2.1659e-04 -0.2003  0.84136    \n",
              "dinflation   7.9752e-03  9.8341e-03  0.8110  0.41789    \n",
              "dmoney      -1.1264e-04  1.2300e-04 -0.9158  0.36038    \n",
              "dspread     -9.8206e-03  5.8637e-03 -1.6748  0.09480 .  \n",
              "rterm        2.6289e-02  1.3706e-02  1.9181  0.05586 .  \n",
              "---\n",
              "Signif. codes:  0 ‘***’ 0.001 ‘**’ 0.01 ‘*’ 0.05 ‘.’ 0.1 ‘ ’ 1\n"
            ]
          },
          "metadata": {}
        }
      ]
    },
    {
      "cell_type": "code",
      "source": [
        "install.packages('car') # Installs the 'car' package, which provides functions for regression analysis and diagnostic tools for linear models"
      ],
      "metadata": {
        "colab": {
          "base_uri": "https://localhost:8080/"
        },
        "id": "5rAgBDQrvJwb",
        "outputId": "a86dc0d2-3c25-43d6-e774-39dc842aaf5c"
      },
      "execution_count": 21,
      "outputs": [
        {
          "output_type": "stream",
          "name": "stderr",
          "text": [
            "Installing package into ‘/usr/local/lib/R/site-library’\n",
            "(as ‘lib’ is unspecified)\n",
            "\n",
            "also installing the dependencies ‘cowplot’, ‘Deriv’, ‘microbenchmark’, ‘numDeriv’, ‘doBy’, ‘SparseM’, ‘MatrixModels’, ‘minqa’, ‘nloptr’, ‘RcppEigen’, ‘carData’, ‘abind’, ‘Formula’, ‘pbkrtest’, ‘quantreg’, ‘lme4’\n",
            "\n",
            "\n"
          ]
        }
      ]
    },
    {
      "cell_type": "markdown",
      "source": [
        "The following code utilizes the linearHypothesis function from the car package to conduct a simultaneous hypothesis test on the coefficients of the modelapt regression model. Here's a breakdown of the procedure:\n",
        "\n",
        "Objective:\n",
        "The goal is to test whether the specified coefficients in the regression model are simultaneously equal to zero.\n",
        "\n",
        "Hypothesis:\n",
        "\n",
        "- Null hypothesis (H₀): The coefficients for dcredit, dmoney, and dspread are all equal to 0.\n",
        "\n",
        "- Alternative hypothesis (H₁): At least one of these coefficients is different from 0.\n",
        "\n",
        "F-test Statistic:\n",
        "This statistic evaluates whether the combined effect of the coefficients being tested significantly contributes to the model's explanatory power.\n",
        "\n",
        "Interpretation of p-value:\n",
        "\n",
        "- Small p-value (< 0.05): Reject the null hypothesis (H₀), indicating that at least one of the variables has a significant effect on the model.\n",
        "\n",
        "- Large p-value (≥ 0.05): Fail to reject the null hypothesis (H₀), suggesting that the combined effect of the variables is not statistically significant."
      ],
      "metadata": {
        "id": "DZN5WwYmvf6S"
      }
    },
    {
      "cell_type": "code",
      "source": [
        "library(car) # Loads the 'car' package, which contains tools for regression diagnostics and hypothesis testing for linear models\n",
        "linearHypothesis(modelapt, c(\"dcredit=0\", \"dmoney=0\",\"dspread=0\")) # Performs a linear hypothesis test on the 'modelapt' to check if the coefficients of 'dcredit', 'dmoney', and 'dspread' are equal to zero"
      ],
      "metadata": {
        "colab": {
          "base_uri": "https://localhost:8080/",
          "height": 193
        },
        "id": "Ol6eVxdLvLVq",
        "outputId": "5ff11335-9319-4526-dbba-aa44f9f59473"
      },
      "execution_count": 22,
      "outputs": [
        {
          "output_type": "stream",
          "name": "stderr",
          "text": [
            "Loading required package: carData\n",
            "\n"
          ]
        },
        {
          "output_type": "display_data",
          "data": {
            "text/html": [
              "<table class=\"dataframe\">\n",
              "<caption>A anova: 2 × 6</caption>\n",
              "<thead>\n",
              "\t<tr><th></th><th scope=col>Res.Df</th><th scope=col>RSS</th><th scope=col>Df</th><th scope=col>Sum of Sq</th><th scope=col>F</th><th scope=col>Pr(&gt;F)</th></tr>\n",
              "\t<tr><th></th><th scope=col>&lt;dbl&gt;</th><th scope=col>&lt;dbl&gt;</th><th scope=col>&lt;dbl&gt;</th><th scope=col>&lt;dbl&gt;</th><th scope=col>&lt;dbl&gt;</th><th scope=col>&lt;dbl&gt;</th></tr>\n",
              "</thead>\n",
              "<tbody>\n",
              "\t<tr><th scope=row>1</th><td>379</td><td>14915.37</td><td>NA</td><td>      NA</td><td>    NA</td><td>       NA</td></tr>\n",
              "\t<tr><th scope=row>2</th><td>376</td><td>14771.41</td><td> 3</td><td>143.9623</td><td>1.2215</td><td>0.3016259</td></tr>\n",
              "</tbody>\n",
              "</table>\n"
            ],
            "text/markdown": "\nA anova: 2 × 6\n\n| <!--/--> | Res.Df &lt;dbl&gt; | RSS &lt;dbl&gt; | Df &lt;dbl&gt; | Sum of Sq &lt;dbl&gt; | F &lt;dbl&gt; | Pr(&gt;F) &lt;dbl&gt; |\n|---|---|---|---|---|---|---|\n| 1 | 379 | 14915.37 | NA |       NA |     NA |        NA |\n| 2 | 376 | 14771.41 |  3 | 143.9623 | 1.2215 | 0.3016259 |\n\n",
            "text/latex": "A anova: 2 × 6\n\\begin{tabular}{r|llllll}\n  & Res.Df & RSS & Df & Sum of Sq & F & Pr(>F)\\\\\n  & <dbl> & <dbl> & <dbl> & <dbl> & <dbl> & <dbl>\\\\\n\\hline\n\t1 & 379 & 14915.37 & NA &       NA &     NA &        NA\\\\\n\t2 & 376 & 14771.41 &  3 & 143.9623 & 1.2215 & 0.3016259\\\\\n\\end{tabular}\n",
            "text/plain": [
              "  Res.Df RSS      Df Sum of Sq F      Pr(>F)   \n",
              "1 379    14915.37 NA       NA      NA        NA\n",
              "2 376    14771.41  3 143.9623  1.2215 0.3016259"
            ]
          },
          "metadata": {}
        }
      ]
    },
    {
      "cell_type": "code",
      "source": [
        "install.packages(\"quantreg\") # Installs the 'quantreg' package, which provides tools for quantile regression and robust quantile estimation"
      ],
      "metadata": {
        "colab": {
          "base_uri": "https://localhost:8080/"
        },
        "id": "48GGXkcLweMs",
        "outputId": "99fbbc12-b8d1-4e1f-aec9-3b2760926313"
      },
      "execution_count": 23,
      "outputs": [
        {
          "output_type": "stream",
          "name": "stderr",
          "text": [
            "Installing package into ‘/usr/local/lib/R/site-library’\n",
            "(as ‘lib’ is unspecified)\n",
            "\n"
          ]
        }
      ]
    },
    {
      "cell_type": "markdown",
      "source": [
        "We import the library 'quantreg' to estimate the quantile"
      ],
      "metadata": {
        "id": "JlfYP3Rkwsx_"
      }
    },
    {
      "cell_type": "code",
      "source": [
        "library(quantreg) # Loads the 'quantreg' package, which allows performing quantile regressions and estimating robust models for different quantiles"
      ],
      "metadata": {
        "colab": {
          "base_uri": "https://localhost:8080/"
        },
        "id": "qtybAkInwpWY",
        "outputId": "94f83582-6508-4330-b467-873925741c4e"
      },
      "execution_count": 24,
      "outputs": [
        {
          "output_type": "stream",
          "name": "stderr",
          "text": [
            "Loading required package: SparseM\n",
            "\n"
          ]
        }
      ]
    },
    {
      "cell_type": "markdown",
      "source": [
        "**Quantile Regression**: Unlike traditional linear regression, which models the conditional mean of the dependent variable, quantile regression estimates conditional quantiles, such as the median or other percentiles.\n",
        "\n",
        "This method is particularly valuable for understanding how explanatory variables impact different segments of the dependent variable's distribution, allowing for insights into the effects on the central tendency as well as on the tails (e.g., extreme values) of the distribution."
      ],
      "metadata": {
        "id": "9mdM-DOzxOOT"
      }
    },
    {
      "cell_type": "code",
      "source": [
        "qregcapm=rq(erIBM ~ ersandp, data=da) # Performs a quantile regression (rq) to estimate the relationship between 'rIBM' and 'rsandp' using the data from the 'da' dataframe"
      ],
      "metadata": {
        "id": "J8jS7cHoxACO"
      },
      "execution_count": 25,
      "outputs": []
    },
    {
      "cell_type": "code",
      "source": [
        "summary(qregcapm) # Displays a summary of the quantile regression results 'qregcapm', including coefficients, standard errors, and test statistics"
      ],
      "metadata": {
        "colab": {
          "base_uri": "https://localhost:8080/",
          "height": 204
        },
        "id": "WOHYlFNYxQXI",
        "outputId": "60a19f97-bf97-45d9-ce4e-8092fcb926e4"
      },
      "execution_count": 26,
      "outputs": [
        {
          "output_type": "stream",
          "name": "stderr",
          "text": [
            "Warning message in rq.fit.br(x, y, tau = tau, ci = TRUE, ...):\n",
            "“Solution may be nonunique”\n"
          ]
        },
        {
          "output_type": "display_data",
          "data": {
            "text/plain": [
              "\n",
              "Call: rq(formula = erIBM ~ ersandp, data = da)\n",
              "\n",
              "tau: [1] 0.5\n",
              "\n",
              "Coefficients:\n",
              "            coefficients lower bd upper bd\n",
              "(Intercept) -0.41497     -0.83263  0.07315\n",
              "ersandp      0.96027      0.86309  1.08453"
            ]
          },
          "metadata": {}
        }
      ]
    },
    {
      "cell_type": "markdown",
      "source": [
        "The following code carries out quantile regression across various quantiles of the conditional distribution. By estimating the regression at several quantiles (τ), it allows us to explore how the relationship between `rIBM` and `rsandp` differs across different parts of the distribution.\n",
        "\n",
        "For instance:\n",
        "\n",
        "**τ=0.1**: Focuses on analyzing IBM's low returns, conditional on the S&P 500.\n",
        "\n",
        "**τ=0.5**: Examines the median, providing insight into the central tendency of the data.\n",
        "\n",
        "**τ=0.9**: Investigates IBM's high returns, reflecting the upper tail of the distribution.\n",
        "\n",
        "The coefficients at each quantile (τ) show how Apple's excess returns respond to variations in the S&P 500 under specific market conditions, such as bear, normal, or bull markets."
      ],
      "metadata": {
        "id": "O8s-sflkyAAG"
      }
    },
    {
      "cell_type": "code",
      "source": [
        "rq(erIBM ~ ersandp, data=da, tau=seq(0.1,0.9,0.1)) # Performs a quantile regression for different quantiles (tau from 0.1 to 0.9) of 'rIBM' based on 'rsandp', using the data from the 'da' dataframe"
      ],
      "metadata": {
        "colab": {
          "base_uri": "https://localhost:8080/",
          "height": 221
        },
        "id": "V5S1_Nfjx8M_",
        "outputId": "bf78f464-45fe-48ca-f526-69007f9a7c42"
      },
      "execution_count": 27,
      "outputs": [
        {
          "output_type": "display_data",
          "data": {
            "text/plain": [
              "Call:\n",
              "rq(formula = erIBM ~ ersandp, tau = seq(0.1, 0.9, 0.1), data = da)\n",
              "\n",
              "Coefficients:\n",
              "              tau= 0.1   tau= 0.2   tau= 0.3   tau= 0.4   tau= 0.5  tau= 0.6\n",
              "(Intercept) -7.0819585 -4.4619301 -2.9043659 -1.7418680 -0.4149691 0.5137591\n",
              "ersandp      0.9237182  0.9669927  0.9970094  0.9230995  0.9602653 0.9666551\n",
              "             tau= 0.7  tau= 0.8  tau= 0.9\n",
              "(Intercept) 2.2573343 4.2595713 7.7151286\n",
              "ersandp     0.9167838 0.9536269 0.8682498\n",
              "\n",
              "Degrees of freedom: 384 total; 382 residual"
            ]
          },
          "metadata": {}
        }
      ]
    },
    {
      "cell_type": "markdown",
      "source": [
        "The following code performs quantile regression on IBM's excess returns (rIBM) as a function of the S&P 500's excess returns (rsandp) across various quantiles.\n",
        "\n",
        "**rq()**: The quantile regression function from the quantreg package. It estimates relationships between variables at different quantiles of the dependent variable (here, rIBM).\n",
        "\n",
        "**rIBM ~ rsandp**: This formula specifies that we are modeling rIBM as a function of rsandp. It allows us to analyze how the S&P 500's excess returns influence IBM's excess returns.\n",
        "\n",
        "**data=da**: Specifies that the data used comes from the dataset 'da'.\n",
        "\n",
        "**tau=seq(0.1, 0.9, 0.1)**: Defines a range of quantiles from τ=0.1 to τ=0.9 in steps of 0.1. This ensures that the regression is estimated for the 10th, 20th, ..., 90th quantiles of IBM’s excess returns, relative to the S&P 500.\n",
        "\n",
        "The resulting `qreg` model will be a list of quantile regression models, each corresponding to a different quantile (𝜏) specified. This setup allows us to examine how the relationship between rsandp and rIBM varies across different parts of the distribution of IBM’s excess returns.\n",
        "\n",
        "Each regression model targets a specific quantile of IBM's excess returns distribution. For example:\n",
        "\n",
        "- **τ=0.1**: Analyzes the relationship between rsandp and rIBM during periods of low IBM returns.\n",
        "- **τ=0.5**: Focuses on the median relationship, providing insight into the central tendency.\n",
        "- **τ=0.9**: Investigates how rsandp affects IBM during high-return periods.\n",
        "\n",
        "This method is especially useful when the effects of explanatory variables, like the S&P 500's excess returns, differ across the distribution of returns—such as stronger effects during bull or bear markets."
      ],
      "metadata": {
        "id": "nhOF_Q0ByJkZ"
      }
    },
    {
      "cell_type": "code",
      "source": [
        "qreg= rq(erIBM ~ ersandp, data=da, tau=seq(0.1,0.9,0.1)) # Performs a quantile regression for different quantiles (tau from 0.1 to 0.9) of 'rIBM' based on 'rsandp', and stores the result in the 'qreg' object"
      ],
      "metadata": {
        "id": "jdghlgqKyHXx"
      },
      "execution_count": 28,
      "outputs": []
    },
    {
      "cell_type": "code",
      "source": [
        "plot(summary(qreg), level = 0.95) # Plots a graph of the quantile regression results 'qreg', displaying the 95% confidence intervals for the estimated coefficients"
      ],
      "metadata": {
        "colab": {
          "base_uri": "https://localhost:8080/",
          "height": 471
        },
        "id": "F_0k-TBUyrco",
        "outputId": "a31e36eb-162f-4f1b-d81e-69aba099a621"
      },
      "execution_count": 29,
      "outputs": [
        {
          "output_type": "stream",
          "name": "stderr",
          "text": [
            "Warning message in rq.fit.br(x, y, tau = tau, ci = TRUE, ...):\n",
            "“Solution may be nonunique”\n"
          ]
        },
        {
          "output_type": "display_data",
          "data": {
            "text/plain": [
              "Plot with title “ersandp”"
            ],
            "image/png": "[encoded data removed]"
          },
          "metadata": {
            "image/png": {
              "width": 420,
              "height": 420
            }
          }
        }
      ]
    },
    {
      "cell_type": "markdown",
      "source": [
        "The intercept in the OLS linear regression model is fixed and centralized, typically around -0.008 in the context of the CAPM model. This fixed intercept does not fully capture the dynamic nature of returns, especially those observed in the extremes or tails of the distribution. By focusing solely on the average relationship, OLS misses the varying impacts that market conditions can have on the returns of an asset, particularly in volatile or extreme market environments.\n",
        "\n",
        "In contrast, quantile regression allows for a more adaptive approach. It estimates different intercepts for various quantiles of the distribution (e.g., 10th, 50th, 90th percentiles), meaning it can capture how the relationship between the independent variable (market returns) and the dependent variable (IBM’s excess returns) changes across different segments of the return distribution. This flexibility is particularly valuable for understanding extreme market behaviors, whether in bear or bull markets.\n",
        "\n",
        "Conclusion:\n",
        "Quantile regression provides a more comprehensive analysis of the relationship between IBM’s excess returns and the market returns, as it enables a deeper understanding of how this relationship differs under various market conditions. Unlike OLS, which offers a single average measure, quantile regression reveals how market movements impact the asset's returns at different points in its distribution, offering more insights into extreme market events and the behavior of returns in various economic contexts."
      ],
      "metadata": {
        "id": "4y_kF72oeQO5"
      }
    },
    {
      "cell_type": "code",
      "source": [
        "dev.print(device=pdf,file=\"rqcapm.pdf\") # Saves the current plot in a PDF file named 'rqcapm.pdf'"
      ],
      "metadata": {
        "colab": {
          "base_uri": "https://localhost:8080/",
          "height": 34
        },
        "id": "6nCKKzQkyupY",
        "outputId": "7b7a6461-f863-42ae-f60c-f1c7298489d3"
      },
      "execution_count": 30,
      "outputs": [
        {
          "output_type": "display_data",
          "data": {
            "text/html": [
              "<strong>pdf:</strong> 2"
            ],
            "text/markdown": "**pdf:** 2",
            "text/latex": "\\textbf{pdf:} 2",
            "text/plain": [
              "pdf \n",
              "  2 "
            ]
          },
          "metadata": {}
        }
      ]
    },
    {
      "cell_type": "markdown",
      "source": [
        "The following lines of code calculate the logarithmic returns for two stocks, Ford and Adobe, based on their price data. Here's a breakdown of what each line does:\n",
        "\n",
        "- **log(IBM) and log(adobe)**: This function computes the natural logarithm of the IBM and Adobe stock prices. Using logarithms to calculate returns normalizes the price variations and allows them to be compared independently of the absolute price level.\n",
        "\n",
        "- **diff()**: This function calculates the difference between consecutive elements in the data series. In this context, it computes the logarithmic differences between the current and previous stock prices, yielding the logarithmic changes in stock prices.\n",
        "\n",
        "- **Multiplying by 100**: The logarithmic differences are multiplied by 100 to express the results as percentage returns. This makes the interpretation of the changes more intuitive, as it represents the percentage variation in stock prices rather than the raw logarithmic values.\n",
        "\n",
        "- **c(NA, ...)**: An \"NA\" value is prepended to the beginning of the return series to align its length with that of the original price data. Since the `diff()` function reduces the series length by one (as there is no predecessor for the first value), the NA ensures that the return series matches the stock price data in length."
      ],
      "metadata": {
        "id": "JDzr5OMpzH6e"
      }
    },
    {
      "cell_type": "code",
      "source": [
        "rIBM=c(NA,100*diff(log(IBM))) # Computes the logarithmic return series for 'IBM', expressed as a percentage, with a 'NA' added at the beginning to align the data lengths\n",
        "radobe=c(NA,100*diff(log(adobe))) # Computes the logarithmic return series for 'adobe', expressed as a percentage, with a 'NA' added at the beginning to align the data lengths"
      ],
      "metadata": {
        "id": "VLyeXfNEzEpg"
      },
      "execution_count": 31,
      "outputs": []
    },
    {
      "cell_type": "code",
      "source": [
        "plot(ersandp,erIBM,pch=19) # Plots a scatter plot between 'rsandp' and 'rIBM', with filled points (pch=19)\n",
        "abline(lm(ersandp~erIBM)) # Adds a linear regression line to the plot, representing the relationship between 'rsandp' and 'rIBM'\n",
        "dev.print(device=pdf,file=\"assoc.pdf\") # Saves the current plot in a PDF file named 'assoc.pdf'"
      ],
      "metadata": {
        "colab": {
          "base_uri": "https://localhost:8080/",
          "height": 454
        },
        "id": "Z1iZSSs60AYL",
        "outputId": "028eef5b-3e3c-4855-c8ad-88e2d47bf001"
      },
      "execution_count": 32,
      "outputs": [
        {
          "output_type": "display_data",
          "data": {
            "text/html": [
              "<strong>pdf:</strong> 2"
            ],
            "text/markdown": "**pdf:** 2",
            "text/latex": "\\textbf{pdf:} 2",
            "text/plain": [
              "pdf \n",
              "  2 "
            ]
          },
          "metadata": {}
        },
        {
          "output_type": "display_data",
          "data": {
            "text/plain": [
              "plot without title"
            ],
            "image/png": "[encoded data removed]"
          },
          "metadata": {
            "image/png": {
              "width": 420,
              "height": 420
            }
          }
        }
      ]
    },
    {
      "cell_type": "markdown",
      "source": [
        "This code generates a scatter plot showing the relationship between the excess returns of the S&P 500 index (**rsandp**) and the excess returns of IBM (**rIBM**).\n",
        "\n",
        "- The **plot()** function creates a scatter plot with filled points (pch=19), visually representing the data points.\n",
        "- The **abline()** function adds a linear regression line to the plot, which represents the estimated relationship between the two variables (in this case, **rsandp** and **rIBM**). The regression line shows the direction and strength of the correlation between these two excess return series.\n",
        "- The **dev.print()** function saves the plot as a PDF file called **assoc.pdf**, allowing for later review or presentation.\n",
        "\n",
        "Interpretation: By examining the scatter plot and the linear regression line, you can assess whether there is a linear relationship between the S&P 500 and IBM's excess returns. A positive slope suggests that, as the S&P 500 excess returns increase, IBM's excess returns tend to rise as well. Conversely, a negative slope would suggest an inverse relationship."
      ],
      "metadata": {
        "id": "L-IjduRDQjIR"
      }
    },
    {
      "cell_type": "code",
      "source": [
        "install.packages('stargazer') # Installs the 'stargazer' package, which allows creating regression result tables and other statistical analysis in a clean and readable format\n",
        "install.packages('officer') # Installs the 'officer' package, which allows manipulating Word and PowerPoint documents in R"
      ],
      "metadata": {
        "colab": {
          "base_uri": "https://localhost:8080/"
        },
        "id": "6Y1FpaQ40H7F",
        "outputId": "2574944c-8b4d-4995-ea73-af3ff57cc323"
      },
      "execution_count": 33,
      "outputs": [
        {
          "output_type": "stream",
          "name": "stderr",
          "text": [
            "Installing package into ‘/usr/local/lib/R/site-library’\n",
            "(as ‘lib’ is unspecified)\n",
            "\n",
            "Installing package into ‘/usr/local/lib/R/site-library’\n",
            "(as ‘lib’ is unspecified)\n",
            "\n"
          ]
        }
      ]
    },
    {
      "cell_type": "code",
      "source": [
        "library(stargazer) # Loads the 'stargazer' package, which allows easily creating regression result tables, descriptive statistics, etc.\n",
        "library(officer) # Loads the 'officer' package, which allows creating, modifying, and analyzing Word and PowerPoint documents directly from R\n",
        "models =list(modelapt) # Creates a list containing the 'modelapt', allowing multiple models to be stored in a data structure\n",
        "stargazer(models, title = \"Regression Results\", type = \"text\", out = \"capm.doc\") # Generates a regression result table and exports it to a Word file named 'capm.doc'"
      ],
      "metadata": {
        "colab": {
          "base_uri": "https://localhost:8080/"
        },
        "id": "oDxT9wqJ0Lm6",
        "outputId": "5457970b-c81d-401d-d3b4-67d80b669cbd"
      },
      "execution_count": 34,
      "outputs": [
        {
          "output_type": "stream",
          "name": "stderr",
          "text": [
            "\n",
            "Please cite as: \n",
            "\n",
            "\n",
            " Hlavac, Marek (2022). stargazer: Well-Formatted Regression and Summary Statistics Tables.\n",
            "\n",
            " R package version 5.2.3. https://CRAN.R-project.org/package=stargazer \n",
            "\n",
            "\n",
            "\n",
            "Attaching package: ‘officer’\n",
            "\n",
            "\n",
            "The following object is masked from ‘package:readxl’:\n",
            "\n",
            "    read_xlsx\n",
            "\n",
            "\n"
          ]
        },
        {
          "output_type": "stream",
          "name": "stdout",
          "text": [
            "\n",
            "Regression Results\n",
            "===============================================\n",
            "                        Dependent variable:    \n",
            "                    ---------------------------\n",
            "                               erIBM           \n",
            "-----------------------------------------------\n",
            "ersandp                      0.961***          \n",
            "                              (0.074)          \n",
            "                                               \n",
            "dcredit                      -0.00004          \n",
            "                             (0.0002)          \n",
            "                                               \n",
            "dinflation                     0.008           \n",
            "                              (0.010)          \n",
            "                                               \n",
            "dmoney                        -0.0001          \n",
            "                             (0.0001)          \n",
            "                                               \n",
            "dspread                       -0.010*          \n",
            "                              (0.006)          \n",
            "                                               \n",
            "rterm                         0.026*           \n",
            "                              (0.014)          \n",
            "                                               \n",
            "Constant                      -0.019           \n",
            "                              (0.379)          \n",
            "                                               \n",
            "-----------------------------------------------\n",
            "Observations                    383            \n",
            "R2                             0.319           \n",
            "Adjusted R2                    0.308           \n",
            "Residual Std. Error      6.268 (df = 376)      \n",
            "F Statistic           29.378*** (df = 6; 376)  \n",
            "===============================================\n",
            "Note:               *p<0.1; **p<0.05; ***p<0.01\n"
          ]
        }
      ]
    },
    {
      "cell_type": "code",
      "source": [
        "bptest(formula(modelapt),data=da,studentize=F) # Performs the Breusch-Pagan test for heteroscedasticity in the 'modelapt', without standardizing the residuals"
      ],
      "metadata": {
        "colab": {
          "base_uri": "https://localhost:8080/",
          "height": 102
        },
        "id": "cgQtXD8H0epK",
        "outputId": "e455bc2e-68d5-4b28-d0b9-0af216db0164"
      },
      "execution_count": 35,
      "outputs": [
        {
          "output_type": "display_data",
          "data": {
            "text/plain": [
              "\n",
              "\tBreusch-Pagan test\n",
              "\n",
              "data:  formula(modelapt)\n",
              "BP = 5.7187, df = 6, p-value = 0.4554\n"
            ]
          },
          "metadata": {}
        }
      ]
    },
    {
      "cell_type": "code",
      "source": [
        "bptest(formula(modelapt),data=da,studentize=T) # Performs the Breusch-Pagan test for heteroscedasticity in the 'modelapt', with standardizing the residuals"
      ],
      "metadata": {
        "colab": {
          "base_uri": "https://localhost:8080/",
          "height": 102
        },
        "id": "jgOcDz_Q0gwZ",
        "outputId": "27a72672-18ef-4ef9-b15e-9db7821bf0ae"
      },
      "execution_count": 36,
      "outputs": [
        {
          "output_type": "display_data",
          "data": {
            "text/plain": [
              "\n",
              "\tstudentized Breusch-Pagan test\n",
              "\n",
              "data:  formula(modelapt)\n",
              "BP = 2.6079, df = 6, p-value = 0.8562\n"
            ]
          },
          "metadata": {}
        }
      ]
    },
    {
      "cell_type": "code",
      "source": [
        "install.packages(\"sandwich\") # Installs the 'sandwich' package, which provides robust standard error estimations for regression models"
      ],
      "metadata": {
        "colab": {
          "base_uri": "https://localhost:8080/"
        },
        "id": "3MKT4B_D0iHj",
        "outputId": "42e8343b-8d89-4d66-a43b-7158f6263c83"
      },
      "execution_count": 37,
      "outputs": [
        {
          "output_type": "stream",
          "name": "stderr",
          "text": [
            "Installing package into ‘/usr/local/lib/R/site-library’\n",
            "(as ‘lib’ is unspecified)\n",
            "\n"
          ]
        }
      ]
    },
    {
      "cell_type": "code",
      "source": [
        "library(sandwich) # Loads the 'sandwich' package, which allows calculating robust standard errors for regression models"
      ],
      "metadata": {
        "id": "6AwdO4fD0kNh"
      },
      "execution_count": 38,
      "outputs": []
    },
    {
      "cell_type": "code",
      "source": [
        "coeftest(modelapt,vcov.=vcovHC(modelapt,type=\"HC1\")) # Performs a test of the coefficients of the 'modelapt' using robust standard errors of type \"HC1\" to correct for heteroscedasticity"
      ],
      "metadata": {
        "colab": {
          "base_uri": "https://localhost:8080/",
          "height": 238
        },
        "id": "aPeGCWxL1UfP",
        "outputId": "e1f3c4c4-fb35-4c4e-bbdf-dbbaeea8487e"
      },
      "execution_count": 39,
      "outputs": [
        {
          "output_type": "display_data",
          "data": {
            "text/plain": [
              "\n",
              "t test of coefficients:\n",
              "\n",
              "               Estimate  Std. Error t value Pr(>|t|)    \n",
              "(Intercept) -1.9278e-02  3.6367e-01 -0.0530  0.95775    \n",
              "ersandp      9.6103e-01  7.7138e-02 12.4586  < 2e-16 ***\n",
              "dcredit     -4.3381e-05  1.5078e-04 -0.2877  0.77372    \n",
              "dinflation   7.9752e-03  1.0283e-02  0.7756  0.43847    \n",
              "dmoney      -1.1264e-04  9.1300e-05 -1.2337  0.21809    \n",
              "dspread     -9.8206e-03  5.7027e-03 -1.7221  0.08588 .  \n",
              "rterm        2.6289e-02  1.4288e-02  1.8399  0.06658 .  \n",
              "---\n",
              "Signif. codes:  0 ‘***’ 0.001 ‘**’ 0.01 ‘*’ 0.05 ‘.’ 0.1 ‘ ’ 1\n"
            ]
          },
          "metadata": {}
        }
      ]
    },
    {
      "cell_type": "code",
      "source": [
        "coeftest(modelapt,vcov.=NeweyWest(modelapt,lag = 6, adjust=T, prewhite=F)) # Performs a test of the coefficients of the 'modelapt' using Newey-West robust standard errors, with a lag of 6, adjusted for variance and without pre-whitening"
      ],
      "metadata": {
        "colab": {
          "base_uri": "https://localhost:8080/",
          "height": 238
        },
        "id": "qna8ptCg1Y5k",
        "outputId": "0f83ffe9-fa42-49e6-87d7-fa966caf2063"
      },
      "execution_count": 40,
      "outputs": [
        {
          "output_type": "display_data",
          "data": {
            "text/plain": [
              "\n",
              "t test of coefficients:\n",
              "\n",
              "               Estimate  Std. Error t value Pr(>|t|)    \n",
              "(Intercept) -1.9278e-02  3.4293e-01 -0.0562  0.95520    \n",
              "ersandp      9.6103e-01  9.1056e-02 10.5542  < 2e-16 ***\n",
              "dcredit     -4.3381e-05  1.4501e-04 -0.2991  0.76499    \n",
              "dinflation   7.9752e-03  1.1306e-02  0.7054  0.48099    \n",
              "dmoney      -1.1264e-04  9.7518e-05 -1.1550  0.24881    \n",
              "dspread     -9.8206e-03  4.8156e-03 -2.0393  0.04212 *  \n",
              "rterm        2.6289e-02  1.4458e-02  1.8182  0.06983 .  \n",
              "---\n",
              "Signif. codes:  0 ‘***’ 0.001 ‘**’ 0.01 ‘*’ 0.05 ‘.’ 0.1 ‘ ’ 1\n"
            ]
          },
          "metadata": {}
        }
      ]
    },
    {
      "cell_type": "markdown",
      "source": [
        "**Alternative hypothesis:** At least one of the coefficients is significantly different from zero, indicating a meaningful relationship between the predictor variables and the response variable.\n",
        "\n",
        "**Conclusion:** The `coeftest` output reveals that the variable **rsandp** is highly significant (**p-value < 2e-16**), suggesting a strong relationship with the dependent variable. On the other hand, variables like **dcredit**, **dinflation**, and **dmoney** show no significant relationship with the dependent variable, as their p-values are much higher than 0.05. Additionally, **dspread** is statistically significant at the 5% level, while **rterm** is marginally significant (p-value = 0.07013). The use of Newey-West robust standard errors helps adjust for heteroscedasticity and autocorrelation, providing more reliable coefficient estimates."
      ],
      "metadata": {
        "id": "QtHUOi1tQRVt"
      }
    },
    {
      "cell_type": "code",
      "source": [
        "dwtest(modelapt) # Performs the Durbin-Watson test to detect autocorrelation in the residuals of the 'modelapt'"
      ],
      "metadata": {
        "colab": {
          "base_uri": "https://localhost:8080/",
          "height": 119
        },
        "id": "62RD5e0l1aWh",
        "outputId": "7f58921a-a7c9-4ae1-a3c8-fc94524931b5"
      },
      "execution_count": 41,
      "outputs": [
        {
          "output_type": "display_data",
          "data": {
            "text/plain": [
              "\n",
              "\tDurbin-Watson test\n",
              "\n",
              "data:  modelapt\n",
              "DW = 1.9934, p-value = 0.4623\n",
              "alternative hypothesis: true autocorrelation is greater than 0\n"
            ]
          },
          "metadata": {}
        }
      ]
    },
    {
      "cell_type": "code",
      "source": [
        "bgtest(modelapt,order=10) # Performs the Breusch-Godfrey test to detect autocorrelation in the residuals of the 'modelapt', using an order of 10 lags"
      ],
      "metadata": {
        "colab": {
          "base_uri": "https://localhost:8080/",
          "height": 102
        },
        "id": "PaPq6ry32Gc8",
        "outputId": "47997876-69ff-4336-a322-ea399e9f2d54"
      },
      "execution_count": 42,
      "outputs": [
        {
          "output_type": "display_data",
          "data": {
            "text/plain": [
              "\n",
              "\tBreusch-Godfrey test for serial correlation of order up to 10\n",
              "\n",
              "data:  modelapt\n",
              "LM test = 12.741, df = 10, p-value = 0.2385\n"
            ]
          },
          "metadata": {}
        }
      ]
    },
    {
      "cell_type": "code",
      "source": [
        "install.packages(\"moments\") # Installs the 'moments' package, which provides functions to compute statistical moments like skewness and kurtosis"
      ],
      "metadata": {
        "colab": {
          "base_uri": "https://localhost:8080/"
        },
        "id": "XphEeYmU2IYq",
        "outputId": "0340c415-640e-4f8a-ae7d-fe7fcc0fe3fe"
      },
      "execution_count": 43,
      "outputs": [
        {
          "output_type": "stream",
          "name": "stderr",
          "text": [
            "Installing package into ‘/usr/local/lib/R/site-library’\n",
            "(as ‘lib’ is unspecified)\n",
            "\n"
          ]
        }
      ]
    },
    {
      "cell_type": "code",
      "source": [
        "library(moments) # Loads the 'moments' package, which allows computing distribution measures such as skewness and kurtosis"
      ],
      "metadata": {
        "id": "eIaL0RV02JwO"
      },
      "execution_count": 44,
      "outputs": []
    },
    {
      "cell_type": "code",
      "source": [
        "skewness(modelapt$residuals) # Computes the skewness of the residuals of the 'modelapt' to assess the symmetry of the error distribution"
      ],
      "metadata": {
        "colab": {
          "base_uri": "https://localhost:8080/",
          "height": 34
        },
        "id": "u8TJZiSt2exP",
        "outputId": "b2d692cd-e384-4d76-d5b9-7dc6ca0e662a"
      },
      "execution_count": 45,
      "outputs": [
        {
          "output_type": "display_data",
          "data": {
            "text/html": [
              "-0.225068700731817"
            ],
            "text/markdown": "-0.225068700731817",
            "text/latex": "-0.225068700731817",
            "text/plain": [
              "[1] -0.2250687"
            ]
          },
          "metadata": {}
        }
      ]
    },
    {
      "cell_type": "code",
      "source": [
        "kurtosis(modelapt$residuals) # Computes the kurtosis of the residuals of the 'modelapt' to assess the \"pointedness\" or flatness of the error distribution"
      ],
      "metadata": {
        "colab": {
          "base_uri": "https://localhost:8080/",
          "height": 34
        },
        "id": "NbDv4mUd2hsa",
        "outputId": "61517561-16b7-464b-e7a7-ce3319507ab7"
      },
      "execution_count": 46,
      "outputs": [
        {
          "output_type": "display_data",
          "data": {
            "text/html": [
              "5.38565092964706"
            ],
            "text/markdown": "5.38565092964706",
            "text/latex": "5.38565092964706",
            "text/plain": [
              "[1] 5.385651"
            ]
          },
          "metadata": {}
        }
      ]
    },
    {
      "cell_type": "code",
      "source": [
        "hist(modelapt$residuals,main=\"\") # Plots a histogram of the residuals of the 'modelapt', with no specified title (main=\"\")"
      ],
      "metadata": {
        "colab": {
          "base_uri": "https://localhost:8080/",
          "height": 437
        },
        "id": "GS_MPa6S2jKC",
        "outputId": "d8a1e5d1-6ac0-4632-b7b0-2db834ebd4b0"
      },
      "execution_count": 47,
      "outputs": [
        {
          "output_type": "display_data",
          "data": {
            "text/plain": [
              "Plot with title “”"
            ],
            "image/png": "[encoded data removed]"
          },
          "metadata": {
            "image/png": {
              "width": 420,
              "height": 420
            }
          }
        }
      ]
    },
    {
      "cell_type": "code",
      "source": [
        "jarque.test(modelapt$residuals) # Performs the Jarque-Bera test to test the normality of the residuals of the 'modelapt', assessing skewness and kurtosis"
      ],
      "metadata": {
        "colab": {
          "base_uri": "https://localhost:8080/",
          "height": 119
        },
        "id": "5j2Xg96L2nSp",
        "outputId": "b5e583b2-e107-47b5-c8b9-29788000c360"
      },
      "execution_count": 48,
      "outputs": [
        {
          "output_type": "display_data",
          "data": {
            "text/plain": [
              "\n",
              "\tJarque-Bera Normality Test\n",
              "\n",
              "data:  modelapt$residuals\n",
              "JB = 94.058, p-value < 2.2e-16\n",
              "alternative hypothesis: greater\n"
            ]
          },
          "metadata": {}
        }
      ]
    },
    {
      "cell_type": "markdown",
      "source": [
        "**Alternative hypothesis:** The residuals do not follow a normal distribution, which suggests that the data may exhibit skewness or kurtosis deviations from the normal distribution.\n",
        "\n",
        "**Conclusion:** The test rejects the null hypothesis of normality (p-value < 2.2e-16), indicating that the residuals of the `modelapt` do not follow a normal distribution. This suggests potential issues with model specification or that the data contains non-normal features, such as skewness or excess kurtosis."
      ],
      "metadata": {
        "id": "AJwSRX_lP-1M"
      }
    },
    {
      "cell_type": "code",
      "source": [
        "agostino.test(modelapt$residuals) # Performs the Agostino test (or D'Agostino test) to test the normality of the residuals of the 'modelapt', based on the moments of the distribution"
      ],
      "metadata": {
        "colab": {
          "base_uri": "https://localhost:8080/",
          "height": 119
        },
        "id": "ftW75Bxg2oZj",
        "outputId": "9632c0c2-e0bb-49ef-e248-db4999a26bf6"
      },
      "execution_count": 49,
      "outputs": [
        {
          "output_type": "display_data",
          "data": {
            "text/plain": [
              "\n",
              "\tD'Agostino skewness test\n",
              "\n",
              "data:  modelapt$residuals\n",
              "skew = -0.22507, z = -1.81065, p-value = 0.0702\n",
              "alternative hypothesis: data have a skewness\n"
            ]
          },
          "metadata": {}
        }
      ]
    },
    {
      "cell_type": "code",
      "source": [
        "anscombe.test(modelapt$residuals) # Performs the Anscombe test to assess the normality of the residuals of the 'modelapt', using a method based on symmetry and the distribution of the errors"
      ],
      "metadata": {
        "colab": {
          "base_uri": "https://localhost:8080/",
          "height": 119
        },
        "id": "q1MZxgrL2piA",
        "outputId": "b1d980fd-90bf-4f9a-ab26-80ce3e40bd9d"
      },
      "execution_count": 50,
      "outputs": [
        {
          "output_type": "display_data",
          "data": {
            "text/plain": [
              "\n",
              "\tAnscombe-Glynn kurtosis test\n",
              "\n",
              "data:  modelapt$residuals\n",
              "kurt = 5.3857, z = 5.0593, p-value = 4.208e-07\n",
              "alternative hypothesis: kurtosis is not equal to 3\n"
            ]
          },
          "metadata": {}
        }
      ]
    },
    {
      "cell_type": "markdown",
      "source": [
        "**Alternative hypothesis:** The kurtosis is not equal to 3, suggesting that the residuals do not follow a normal distribution. This could indicate heavier tails (the model exhibits extreme values more frequently than a normal model).\n",
        "\n",
        "**Conclusion:** The test rejects the null hypothesis (kurtosis = 3), implying that the residuals of the `modelapt` do not follow a normal distribution. This may signal non-normality of the errors and potentially indicate a modeling issue or variables that are not captured in the model."
      ],
      "metadata": {
        "id": "4ElGDYl7Po2c"
      }
    },
    {
      "cell_type": "code",
      "source": [],
      "metadata": {
        "id": "X-FAGHbr2qp1"
      },
      "execution_count": null,
      "outputs": []
    }
  ]
}